{
 "cells": [
  {
   "cell_type": "code",
   "execution_count": 1,
   "metadata": {},
   "outputs": [],
   "source": [
    "import numpy as np\n",
    "import uproot\n",
    "import matplotlib.pyplot as plt\n",
    "from tensorflow import keras\n",
    "from sificc_lib import Simulation, root_files, DataModel\n",
    "\n",
    "%matplotlib inline"
   ]
  },
  {
   "cell_type": "code",
   "execution_count": 2,
   "metadata": {},
   "outputs": [
    {
     "name": "stdout",
     "output_type": "stream",
     "text": [
      "processing root file: 100%|███████████████████████████████| 875985/875985 [09:35<00:00, 1522.52it/s]\n",
      "CPU times: user 9min 50s, sys: 2.45 s, total: 9min 52s\n",
      "Wall time: 9min 59s\n"
     ]
    }
   ],
   "source": [
    "%%time\n",
    "# processing the simulation from a Bragg peak\n",
    "simulation = Simulation(file_name=root_files.HPC_LLR_20, clusters_limit=8)\n",
    "DataModel.generate_training_data(simulation=simulation, \n",
    "                                 output_name='data-mtx-top-8.npz')"
   ]
  },
  {
   "cell_type": "code",
   "execution_count": 3,
   "metadata": {},
   "outputs": [
    {
     "name": "stdout",
     "output_type": "stream",
     "text": [
      "processing root file: 100%|█████████████████████████████| 1104850/1104850 [13:06<00:00, 1404.81it/s]\n",
      "CPU times: user 13min 27s, sys: 1.91 s, total: 13min 29s\n",
      "Wall time: 13min 34s\n"
     ]
    }
   ],
   "source": [
    "%%time\n",
    "# processing the simulation from a continuous source\n",
    "simulation = Simulation(file_name=root_files.HPC_LLR_CONT, clusters_limit=8)\n",
    "DataModel.generate_training_data(simulation=simulation, \n",
    "                                 output_name='data-cont-top-8.npz')"
   ]
  }
 ],
 "metadata": {
  "kernelspec": {
   "display_name": "Python 3 (ipykernel)",
   "language": "python",
   "name": "python3"
  },
  "language_info": {
   "codemirror_mode": {
    "name": "ipython",
    "version": 3
   },
   "file_extension": ".py",
   "mimetype": "text/x-python",
   "name": "python",
   "nbconvert_exporter": "python",
   "pygments_lexer": "ipython3",
   "version": "3.7.3"
  }
 },
 "nbformat": 4,
 "nbformat_minor": 2
}

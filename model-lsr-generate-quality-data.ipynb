{
 "cells": [
  {
   "cell_type": "code",
   "execution_count": 1,
   "metadata": {},
   "outputs": [],
   "source": [
    "import numpy as np\n",
    "import uproot\n",
    "import matplotlib.pyplot as plt\n",
    "from tensorflow import keras\n",
    "import tensorflow.keras.backend as K\n",
    "\n",
    "from sificc_lib import AI, utils, Event, Simulation, root_files, DataModel\n",
    "np.set_printoptions(precision=2, linewidth=85, suppress=True)\n",
    "\n",
    "%matplotlib inline"
   ]
  },
  {
   "cell_type": "code",
   "execution_count": 2,
   "metadata": {},
   "outputs": [],
   "source": [
    "# source model name to load the network weights\n",
    "source_model = 'model-lsr'\n",
    "\n",
    "shuffle_clusters = False\n",
    "\n",
    "# load the training data\n",
    "data = DataModel('data-mtx-top-8.npz', \n",
    "                 batch_size = 128, validation_percent = .1, test_percent = .2, \n",
    "                 weight_compton=1, weight_non_compton=.75)\n",
    "\n",
    "# append an extra dimention to the features since we are using convolutional layers\n",
    "data.append_dim = True\n",
    "\n",
    "# create an AI instance\n",
    "ai = AI(data, source_model)"
   ]
  },
  {
   "cell_type": "code",
   "execution_count": 3,
   "metadata": {},
   "outputs": [
    {
     "name": "stdout",
     "output_type": "stream",
     "text": [
      "Model: \"model\"\n",
      "__________________________________________________________________________________________________\n",
      "Layer (type)                    Output Shape         Param #     Connected to                     \n",
      "==================================================================================================\n",
      "inputs (InputLayer)             [(None, 72, 1)]      0                                            \n",
      "__________________________________________________________________________________________________\n",
      "conv_1 (Conv1D)                 (None, 8, 128)       1280        inputs[0][0]                     \n",
      "__________________________________________________________________________________________________\n",
      "conv_2 (Conv1D)                 (None, 8, 64)        8256        conv_1[0][0]                     \n",
      "__________________________________________________________________________________________________\n",
      "flatting (Flatten)              (None, 512)          0           conv_2[0][0]                     \n",
      "__________________________________________________________________________________________________\n",
      "dense_cluster_1 (Dense)         (None, 32)           16416       flatting[0][0]                   \n",
      "__________________________________________________________________________________________________\n",
      "e_cluster (Dense)               (None, 8)            264         dense_cluster_1[0][0]            \n",
      "__________________________________________________________________________________________________\n",
      "p_cluster (Dense)               (None, 8)            264         dense_cluster_1[0][0]            \n",
      "__________________________________________________________________________________________________\n",
      "e_hardmax (Lambda)              (None, 8)            0           e_cluster[0][0]                  \n",
      "__________________________________________________________________________________________________\n",
      "p_hardmax (Lambda)              (None, 8)            0           p_cluster[0][0]                  \n",
      "__________________________________________________________________________________________________\n",
      "join_layer (Concatenate)        (None, 528)          0           flatting[0][0]                   \n",
      "                                                                 e_hardmax[0][0]                  \n",
      "                                                                 p_hardmax[0][0]                  \n",
      "__________________________________________________________________________________________________\n",
      "dense_type_1 (Dense)            (None, 16)           8464        join_layer[0][0]                 \n",
      "__________________________________________________________________________________________________\n",
      "dense_pos_1 (Dense)             (None, 64)           33856       join_layer[0][0]                 \n",
      "__________________________________________________________________________________________________\n",
      "dense_energy_1 (Dense)          (None, 32)           16928       join_layer[0][0]                 \n",
      "__________________________________________________________________________________________________\n",
      "dense_type_2 (Dense)            (None, 8)            136         dense_type_1[0][0]               \n",
      "__________________________________________________________________________________________________\n",
      "dense_pos_2 (Dense)             (None, 32)           2080        dense_pos_1[0][0]                \n",
      "__________________________________________________________________________________________________\n",
      "dense_energy_2 (Dense)          (None, 16)           528         dense_energy_1[0][0]             \n",
      "__________________________________________________________________________________________________\n",
      "type (Dense)                    (None, 1)            9           dense_type_2[0][0]               \n",
      "__________________________________________________________________________________________________\n",
      "pos_x (Dense)                   (None, 2)            66          dense_pos_2[0][0]                \n",
      "__________________________________________________________________________________________________\n",
      "pos_y (Dense)                   (None, 2)            66          dense_pos_2[0][0]                \n",
      "__________________________________________________________________________________________________\n",
      "pos_z (Dense)                   (None, 2)            66          dense_pos_2[0][0]                \n",
      "__________________________________________________________________________________________________\n",
      "energy (Dense)                  (None, 2)            34          dense_energy_2[0][0]             \n",
      "==================================================================================================\n",
      "Total params: 88,713\n",
      "Trainable params: 88,713\n",
      "Non-trainable params: 0\n",
      "__________________________________________________________________________________________________\n"
     ]
    }
   ],
   "source": [
    "# define and create the neural network architecture as in the source model\n",
    "ai.create_model(conv_layers=[128, 64], classifier_layers=[32], type_layers=[16, 8], \n",
    "                pos_layers=[64,32], energy_layers=[32, 16], base_l2=.000, limbs_l2=.000)"
   ]
  },
  {
   "cell_type": "code",
   "execution_count": 4,
   "metadata": {},
   "outputs": [],
   "source": [
    "#LOADING SOURCE MODEL\n",
    "ai.load(source_model, optimizer=False)\n",
    "ai.compile_model()"
   ]
  },
  {
   "cell_type": "code",
   "execution_count": 5,
   "metadata": {},
   "outputs": [],
   "source": [
    "#compute the predictions for all the data\n",
    "predictions = ai.data._denormalize_targets(ai.predict(ai.data.get_features()))\n",
    "\n",
    "#load all the targets, e/p cluster positions (last two) are not needed\n",
    "targets = ai.data._denormalize_targets(ai.data._targets[:,:-2])\n",
    "\n",
    "#assert the matrix shape is the same\n",
    "assert predictions.shape == targets.shape"
   ]
  },
  {
   "cell_type": "code",
   "execution_count": 6,
   "metadata": {},
   "outputs": [],
   "source": [
    "# compute the absolute relative difference in energy\n",
    "e_energy_diff = np.abs(targets[:,0] * (targets[:,1] - predictions[:,1]) / (targets[:,1]+1e-20))\n",
    "p_energy_diff = np.abs(targets[:,0] * (targets[:,2] - predictions[:,2]) / (targets[:,2]+1e-20))\n",
    "\n",
    "# compute the euclidean distance in position\n",
    "e_pos_diff = targets[:,0] * utils.euclidean_distance_np(targets[:,3:6], predictions[:,3:6])\n",
    "p_pos_diff = targets[:,0] * utils.euclidean_distance_np(targets[:,6:9], predictions[:,6:9])"
   ]
  },
  {
   "cell_type": "code",
   "execution_count": 7,
   "metadata": {},
   "outputs": [],
   "source": [
    "# apply energy threshold at .6 and compute energy quality\n",
    "enrg_threshold = .7\n",
    "e_energy_qlty = targets[:,0] - np.minimum(e_energy_diff,enrg_threshold) / enrg_threshold\n",
    "p_energy_qlty = targets[:,0] - np.minimum(p_energy_diff,enrg_threshold) / enrg_threshold\n",
    "\n",
    "# apply position threshold at mean + .6 sigma and compute position quality\n",
    "sigma = 1.2\n",
    "e_sigma = e_pos_diff[targets[:,0]==1].mean() + e_pos_diff[targets[:,0]==1].std() * sigma\n",
    "p_sigma = p_pos_diff[targets[:,0]==1].mean() + p_pos_diff[targets[:,0]==1].std() * sigma\n",
    "e_pos_qlty = targets[:,0] - np.minimum(e_pos_diff, e_sigma) / e_sigma\n",
    "p_pos_qlty = targets[:,0] - np.minimum(p_pos_diff, p_sigma) / p_sigma"
   ]
  },
  {
   "cell_type": "code",
   "execution_count": 8,
   "metadata": {},
   "outputs": [
    {
     "data": {
      "image/png": "[encoded data removed]",
      "text/plain": [
       "<Figure size 1152x720 with 4 Axes>"
      ]
     },
     "metadata": {
      "needs_background": "light"
     },
     "output_type": "display_data"
    }
   ],
   "source": [
    "#plot the distribution of quality vectors\n",
    "plt.figure(figsize=(16,10))\n",
    "plt.subplot(2,2,1)\n",
    "plt.title('e energy quality distribution')\n",
    "plt.hist(e_energy_qlty[targets[:,0]==1], bins=30)\n",
    "plt.subplot(2,2,2)\n",
    "plt.title('p energy quality distribution')\n",
    "plt.hist(p_energy_qlty[targets[:,0]==1], bins=30)\n",
    "plt.subplot(2,2,3)\n",
    "plt.title('e position quality distribution')\n",
    "plt.hist(e_pos_qlty[targets[:,0]==1], bins=30)\n",
    "plt.subplot(2,2,4)\n",
    "plt.title('p position quality distribution')\n",
    "plt.hist(p_pos_qlty[targets[:,0]==1], bins=30)\n",
    "plt.show()"
   ]
  },
  {
   "cell_type": "code",
   "execution_count": 9,
   "metadata": {},
   "outputs": [
    {
     "name": "stdout",
     "output_type": "stream",
     "text": [
      "e energy\n",
      "mean: 0.7772552066980309\n",
      "median: 0.8808944653432598\n",
      "\n",
      "p energy\n",
      "mean: 0.71536487682143\n",
      "median: 0.8128353371121457\n",
      "\n",
      "e pos\n",
      "mean: 0.7423623552558445\n",
      "median: 0.8099547065852731\n",
      "\n",
      "p pos\n",
      "mean: 0.7502334659396334\n",
      "median: 0.8202725166189176\n"
     ]
    }
   ],
   "source": [
    "def stats(l):\n",
    "    s = l[targets[:,0]==1]\n",
    "    print('mean:', s.mean())\n",
    "    print('median:', np.quantile(s,.5))\n",
    "    \n",
    "print('e energy')\n",
    "stats(e_energy_qlty)\n",
    "\n",
    "print('\\np energy')\n",
    "stats(p_energy_qlty)\n",
    "\n",
    "print('\\ne pos')\n",
    "stats(e_pos_qlty)\n",
    "\n",
    "print('\\np pos')\n",
    "stats(p_pos_qlty)"
   ]
  },
  {
   "cell_type": "code",
   "execution_count": 10,
   "metadata": {},
   "outputs": [],
   "source": [
    "# denormalize features, targets, and reco\n",
    "ai.data._features = ai.data._denormalize_features(ai.data._features)\n",
    "ai.data._targets = ai.data._denormalize_targets(ai.data._targets)\n",
    "ai.data._reco = ai.data._denormalize_targets(ai.data._reco)"
   ]
  },
  {
   "cell_type": "code",
   "execution_count": 11,
   "metadata": {},
   "outputs": [],
   "source": [
    "# save the quality vectors along with other training data\n",
    "\n",
    "output_name = 'data-qlty-top-8.npz'\n",
    "qlty = np.concatenate([e_energy_qlty.reshape(-1,1), \n",
    "                       p_energy_qlty.reshape(-1,1), \n",
    "                       e_pos_qlty.reshape(-1,1), \n",
    "                       p_pos_qlty.reshape(-1,1)], axis=1)\n",
    "\n",
    "with open(output_name, 'wb') as f_train:\n",
    "    np.savez_compressed(f_train, \n",
    "                        features=ai.data._features, \n",
    "                        targets=ai.data._targets, \n",
    "                        reco=ai.data._reco,\n",
    "                        sequence = ai.data._seq,\n",
    "                        quality = qlty\n",
    "                       )"
   ]
  },
  {
   "cell_type": "code",
   "execution_count": null,
   "metadata": {},
   "outputs": [],
   "source": []
  }
 ],
 "metadata": {
  "kernelspec": {
   "display_name": "Python 3",
   "language": "python",
   "name": "python3"
  },
  "language_info": {
   "codemirror_mode": {
    "name": "ipython",
    "version": 3
   },
   "file_extension": ".py",
   "mimetype": "text/x-python",
   "name": "python",
   "nbconvert_exporter": "python",
   "pygments_lexer": "ipython3",
   "version": "3.8.3"
  }
 },
 "nbformat": 4,
 "nbformat_minor": 4
}

{
 "cells": [
  {
   "cell_type": "code",
   "execution_count": 1,
   "metadata": {},
   "outputs": [],
   "source": [
    "import numpy as np\n",
    "import uproot\n",
    "import matplotlib.pyplot as plt\n",
    "from tensorflow import keras\n",
    "import tensorflow.keras.backend as K\n",
    "\n",
    "from sificc_lib import DataModelQlty, AIQlty, utils, Event, Simulation, root_files\n",
    "np.set_printoptions(precision=2, linewidth=115, suppress=True)\n",
    "\n",
    "%matplotlib inline"
   ]
  },
  {
   "cell_type": "code",
   "execution_count": 2,
   "metadata": {},
   "outputs": [],
   "source": [
    "# model name\n",
    "model_name = 'model-lsr-quality'\n",
    "\n",
    "# source model name to load the network weights\n",
    "source_model = 'model-lsr'\n",
    "\n",
    "shuffle_clusters = False\n",
    "\n",
    "# load the training data\n",
    "data = DataModelQlty('data-qlty-top-8.npz', batch_size = 128, \n",
    "                     validation_percent = .1, test_percent = .2)\n",
    "\n",
    "# append an extra dimention to the features since we are using convolutional layers\n",
    "data.append_dim = True\n",
    "\n",
    "# create an AI instance\n",
    "ai = AIQlty(data, model_name)\n",
    "\n",
    "# shuffle the clusters within each event\n",
    "if shuffle_clusters:\n",
    "    ai.data.shuffle_training_clusters()\n",
    "    \n",
    "# balance the training data since there are too many background events\n",
    "ai.data.balance_training = True\n",
    "\n",
    "# define the priority of selection\n",
    "ai.data.weight_non_compton = .1"
   ]
  },
  {
   "cell_type": "code",
   "execution_count": 3,
   "metadata": {},
   "outputs": [
    {
     "name": "stdout",
     "output_type": "stream",
     "text": [
      "Model: \"model\"\n",
      "__________________________________________________________________________________________________\n",
      "Layer (type)                    Output Shape         Param #     Connected to                     \n",
      "==================================================================================================\n",
      "inputs (InputLayer)             [(None, 72, 1)]      0                                            \n",
      "__________________________________________________________________________________________________\n",
      "conv_1 (Conv1D)                 (None, 8, 128)       1280        inputs[0][0]                     \n",
      "__________________________________________________________________________________________________\n",
      "conv_2 (Conv1D)                 (None, 8, 64)        8256        conv_1[0][0]                     \n",
      "__________________________________________________________________________________________________\n",
      "flatting (Flatten)              (None, 512)          0           conv_2[0][0]                     \n",
      "__________________________________________________________________________________________________\n",
      "dense_cluster_1 (Dense)         (None, 32)           16416       flatting[0][0]                   \n",
      "__________________________________________________________________________________________________\n",
      "e_cluster (Dense)               (None, 8)            264         dense_cluster_1[0][0]            \n",
      "__________________________________________________________________________________________________\n",
      "p_cluster (Dense)               (None, 8)            264         dense_cluster_1[0][0]            \n",
      "__________________________________________________________________________________________________\n",
      "e_hardmax (Lambda)              (None, 8)            0           e_cluster[0][0]                  \n",
      "__________________________________________________________________________________________________\n",
      "p_hardmax (Lambda)              (None, 8)            0           p_cluster[0][0]                  \n",
      "__________________________________________________________________________________________________\n",
      "join_layer (Concatenate)        (None, 528)          0           flatting[0][0]                   \n",
      "                                                                 e_hardmax[0][0]                  \n",
      "                                                                 p_hardmax[0][0]                  \n",
      "__________________________________________________________________________________________________\n",
      "dense_type_1 (Dense)            (None, 16)           8464        join_layer[0][0]                 \n",
      "__________________________________________________________________________________________________\n",
      "dense_pos_1 (Dense)             (None, 64)           33856       join_layer[0][0]                 \n",
      "__________________________________________________________________________________________________\n",
      "dense_energy_1 (Dense)          (None, 32)           16928       join_layer[0][0]                 \n",
      "__________________________________________________________________________________________________\n",
      "dense_type_2 (Dense)            (None, 8)            136         dense_type_1[0][0]               \n",
      "__________________________________________________________________________________________________\n",
      "dense_pos_2 (Dense)             (None, 32)           2080        dense_pos_1[0][0]                \n",
      "__________________________________________________________________________________________________\n",
      "dense_energy_2 (Dense)          (None, 16)           528         dense_energy_1[0][0]             \n",
      "__________________________________________________________________________________________________\n",
      "type (Dense)                    (None, 1)            9           dense_type_2[0][0]               \n",
      "__________________________________________________________________________________________________\n",
      "pos_x (Dense)                   (None, 2)            66          dense_pos_2[0][0]                \n",
      "__________________________________________________________________________________________________\n",
      "pos_y (Dense)                   (None, 2)            66          dense_pos_2[0][0]                \n",
      "__________________________________________________________________________________________________\n",
      "pos_z (Dense)                   (None, 2)            66          dense_pos_2[0][0]                \n",
      "__________________________________________________________________________________________________\n",
      "energy (Dense)                  (None, 2)            34          dense_energy_2[0][0]             \n",
      "==================================================================================================\n",
      "Total params: 88,713\n",
      "Trainable params: 88,713\n",
      "Non-trainable params: 0\n",
      "__________________________________________________________________________________________________\n"
     ]
    }
   ],
   "source": [
    "# define the learning rate scheduler\n",
    "def lr_scheduler(epoch):\n",
    "    if epoch < 20:\n",
    "        return .001\n",
    "    elif epoch < 40:\n",
    "        return .0003\n",
    "    elif epoch < 60:\n",
    "        return .0001\n",
    "    elif epoch < 80:\n",
    "        return .00001\n",
    "    else:\n",
    "        return .000003\n",
    "\n",
    "# define and create the neural network architecture\n",
    "ai.create_model(conv_layers=[128, 64], classifier_layers=[32], type_layers=[16, 8], \n",
    "                pos_layers=[64,32], energy_layers=[32, 16], base_l2=.000, limbs_l2=.000)"
   ]
  },
  {
   "cell_type": "code",
   "execution_count": 4,
   "metadata": {},
   "outputs": [],
   "source": [
    "# #LOADING THE MODEL\n",
    "# ai.load(source_model, optimizer=False)\n",
    "# ai.extend_model(quality_layers=[64, 32, 32], plot_summary=False)\n",
    "# ai.load(model_name, optimizer=False)\n",
    "# ai.compile_model()"
   ]
  },
  {
   "cell_type": "code",
   "execution_count": null,
   "metadata": {},
   "outputs": [],
   "source": []
  },
  {
   "cell_type": "code",
   "execution_count": 5,
   "metadata": {},
   "outputs": [],
   "source": [
    "# TRAINING THE MODEL\n",
    "# load the weights of the source model\n",
    "ai.load(source_model, optimizer=False)\n",
    "ai.compile_model()"
   ]
  },
  {
   "cell_type": "code",
   "execution_count": 6,
   "metadata": {},
   "outputs": [
    {
     "name": "stdout",
     "output_type": "stream",
     "text": [
      "Model: \"model_1\"\n",
      "__________________________________________________________________________________________________\n",
      "Layer (type)                    Output Shape         Param #     Connected to                     \n",
      "==================================================================================================\n",
      "inputs (InputLayer)             [(None, 72, 1)]      0                                            \n",
      "__________________________________________________________________________________________________\n",
      "conv_1 (Conv1D)                 (None, 8, 128)       1280        inputs[0][0]                     \n",
      "__________________________________________________________________________________________________\n",
      "conv_2 (Conv1D)                 (None, 8, 64)        8256        conv_1[0][0]                     \n",
      "__________________________________________________________________________________________________\n",
      "flatting (Flatten)              (None, 512)          0           conv_2[0][0]                     \n",
      "__________________________________________________________________________________________________\n",
      "dense_cluster_1 (Dense)         (None, 32)           16416       flatting[0][0]                   \n",
      "__________________________________________________________________________________________________\n",
      "e_cluster (Dense)               (None, 8)            264         dense_cluster_1[0][0]            \n",
      "__________________________________________________________________________________________________\n",
      "p_cluster (Dense)               (None, 8)            264         dense_cluster_1[0][0]            \n",
      "__________________________________________________________________________________________________\n",
      "e_hardmax (Lambda)              (None, 8)            0           e_cluster[0][0]                  \n",
      "__________________________________________________________________________________________________\n",
      "p_hardmax (Lambda)              (None, 8)            0           p_cluster[0][0]                  \n",
      "__________________________________________________________________________________________________\n",
      "join_layer (Concatenate)        (None, 528)          0           flatting[0][0]                   \n",
      "                                                                 e_hardmax[0][0]                  \n",
      "                                                                 p_hardmax[0][0]                  \n",
      "__________________________________________________________________________________________________\n",
      "dense_quality_1 (Dense)         (None, 64)           33856       join_layer[0][0]                 \n",
      "__________________________________________________________________________________________________\n",
      "dense_type_1 (Dense)            (None, 16)           8464        join_layer[0][0]                 \n",
      "__________________________________________________________________________________________________\n",
      "dense_pos_1 (Dense)             (None, 64)           33856       join_layer[0][0]                 \n",
      "__________________________________________________________________________________________________\n",
      "dense_energy_1 (Dense)          (None, 32)           16928       join_layer[0][0]                 \n",
      "__________________________________________________________________________________________________\n",
      "dense_quality_2 (Dense)         (None, 32)           2080        dense_quality_1[0][0]            \n",
      "__________________________________________________________________________________________________\n",
      "dense_type_2 (Dense)            (None, 8)            136         dense_type_1[0][0]               \n",
      "__________________________________________________________________________________________________\n",
      "dense_pos_2 (Dense)             (None, 32)           2080        dense_pos_1[0][0]                \n",
      "__________________________________________________________________________________________________\n",
      "dense_energy_2 (Dense)          (None, 16)           528         dense_energy_1[0][0]             \n",
      "__________________________________________________________________________________________________\n",
      "dense_quality_3 (Dense)         (None, 32)           1056        dense_quality_2[0][0]            \n",
      "__________________________________________________________________________________________________\n",
      "type (Dense)                    (None, 1)            9           dense_type_2[0][0]               \n",
      "__________________________________________________________________________________________________\n",
      "pos_x (Dense)                   (None, 2)            66          dense_pos_2[0][0]                \n",
      "__________________________________________________________________________________________________\n",
      "pos_y (Dense)                   (None, 2)            66          dense_pos_2[0][0]                \n",
      "__________________________________________________________________________________________________\n",
      "pos_z (Dense)                   (None, 2)            66          dense_pos_2[0][0]                \n",
      "__________________________________________________________________________________________________\n",
      "energy (Dense)                  (None, 2)            34          dense_energy_2[0][0]             \n",
      "__________________________________________________________________________________________________\n",
      "quality (Dense)                 (None, 4)            132         dense_quality_3[0][0]            \n",
      "==================================================================================================\n",
      "Total params: 125,837\n",
      "Trainable params: 37,124\n",
      "Non-trainable params: 88,713\n",
      "__________________________________________________________________________________________________\n",
      "\n",
      "trainable layers:\n",
      "dense_quality_1  True\n",
      "dense_quality_2  True\n",
      "dense_quality_3  True\n",
      "quality          True\n"
     ]
    }
   ],
   "source": [
    "# freeze all network components\n",
    "for layer in ai.model.layers:\n",
    "    layer.trainable = False\n",
    "    \n",
    "# extend the model with the quality part\n",
    "ai.extend_model(quality_layers=[64, 32, 32], limbs_l2=.00003)\n",
    "\n",
    "# # eliminate the components weight not intended for training\n",
    "ai.weight_type =      0\n",
    "ai.weight_e_cluster = 0\n",
    "ai.weight_p_cluster = 0\n",
    "ai.weight_pos_x =     0\n",
    "ai.weight_pos_y =     0\n",
    "ai.weight_pos_z =     0\n",
    "ai.weight_energy =    0\n",
    "ai.weight_qlty =      1\n",
    "\n",
    "# print the trainable layers\n",
    "print('\\ntrainable layers:')\n",
    "for layer in ai.model.layers:\n",
    "    if layer.trainable:\n",
    "        print('{:17s}{}'.format(layer.name, layer.trainable))\n",
    "\n",
    "# compile the model for training\n",
    "ai.compile_model(learning_rate=.0003)"
   ]
  },
  {
   "cell_type": "code",
   "execution_count": 7,
   "metadata": {},
   "outputs": [
    {
     "name": "stdout",
     "output_type": "stream",
     "text": [
      "CPU times: user 3h 9min 38s, sys: 2min 34s, total: 3h 12min 12s\n",
      "Wall time: 3h 13min 57s\n"
     ]
    }
   ],
   "source": [
    "%%time\n",
    "l_callbacks = [\n",
    "    keras.callbacks.LearningRateScheduler(lr_scheduler),\n",
    "]\n",
    "\n",
    "# start the training of the network\n",
    "ai.train(epochs=100, shuffle_clusters=shuffle_clusters, \n",
    "         verbose=0, callbacks = l_callbacks)"
   ]
  },
  {
   "cell_type": "code",
   "execution_count": 8,
   "metadata": {},
   "outputs": [
    {
     "data": {
      "image/png": "[encoded data removed]",
      "text/plain": [
       "<Figure size 864x288 with 2 Axes>"
      ]
     },
     "metadata": {
      "needs_background": "light"
     },
     "output_type": "display_data"
    }
   ],
   "source": [
    "ai.plot_training_loss(mode='loss-quality', summed_loss=False)"
   ]
  },
  {
   "cell_type": "code",
   "execution_count": 9,
   "metadata": {},
   "outputs": [
    {
     "name": "stdout",
     "output_type": "stream",
     "text": [
      "AI model\n",
      "  Loss:        0.01567\n",
      "    -Type:         0.49152 *  0.00 = 0.00000\n",
      "    -Pos X:        0.04671 *  0.00 = 0.00000\n",
      "    -Pos Y:        1.08707 *  0.00 = 0.00000\n",
      "    -Pos Z:        0.02323 *  0.00 = 0.00000\n",
      "    -Energy:       0.84564 *  0.00 = 0.00000\n",
      "    -Cls e:        0.02332 *  0.00 = 0.00000\n",
      "    -Cls p:        0.05627 *  0.00 = 0.00000\n",
      "    -Quality:      0.01441 *  1.00 = 0.01441\n",
      "  Accuracy:     0.75436\n",
      "    -Precision:    0.32525\n",
      "    -Recall:       0.41141\n",
      "    -Cls e rate:   0.95611\n",
      "    -Cls p rate:   0.86112\n",
      "  Efficiency:   0.14090\n",
      "  Purity:       0.11139\n",
      "  Euc mean:     8.04187\n",
      "  Euc std:     12.74537\n",
      "  Energy mean:  0.31771\n",
      "  Energy std:   0.73403\n",
      "\n",
      "Reco\n",
      "  Accuracy:     0.68734\n",
      "    -TP rate:      0.66029\n",
      "  Efficiency:   0.12303\n",
      "  Purity:       0.04894\n",
      "  Euc mean:    12.21821\n",
      "  Euc std:     18.24261\n",
      "  Energy mean:  0.44373\n",
      "  Energy std:   0.94473\n"
     ]
    }
   ],
   "source": [
    "ai.evaluate(quality_filter=[.65,.65,.65,.65])"
   ]
  },
  {
   "cell_type": "code",
   "execution_count": 10,
   "metadata": {},
   "outputs": [
    {
     "name": "stdout",
     "output_type": "stream",
     "text": [
      "AI model\n",
      "  Loss:        0.01567\n",
      "    -Type:         0.49152 *  0.00 = 0.00000\n",
      "    -Pos X:        0.04671 *  0.00 = 0.00000\n",
      "    -Pos Y:        1.08707 *  0.00 = 0.00000\n",
      "    -Pos Z:        0.02323 *  0.00 = 0.00000\n",
      "    -Energy:       0.84564 *  0.00 = 0.00000\n",
      "    -Cls e:        0.02332 *  0.00 = 0.00000\n",
      "    -Cls p:        0.05627 *  0.00 = 0.00000\n",
      "    -Quality:      0.01441 *  1.00 = 0.01441\n",
      "  Accuracy:     0.75436\n",
      "    -Precision:    0.31104\n",
      "    -Recall:       0.28394\n",
      "    -Cls e rate:   0.95611\n",
      "    -Cls p rate:   0.86112\n",
      "  Efficiency:   0.11064\n",
      "  Purity:       0.12120\n",
      "  Euc mean:     7.19112\n",
      "  Euc std:     10.15874\n",
      "  Energy mean:  0.32951\n",
      "  Energy std:   0.73010\n",
      "\n",
      "Reco\n",
      "  Accuracy:     0.68734\n",
      "    -TP rate:      0.66029\n",
      "  Efficiency:   0.12303\n",
      "  Purity:       0.04894\n",
      "  Euc mean:    12.21821\n",
      "  Euc std:     18.24261\n",
      "  Energy mean:  0.44373\n",
      "  Energy std:   0.94473\n"
     ]
    }
   ],
   "source": [
    "ai.evaluate(quality_filter=[.7,.7,.7,.7])"
   ]
  },
  {
   "cell_type": "code",
   "execution_count": 11,
   "metadata": {},
   "outputs": [
    {
     "name": "stdout",
     "output_type": "stream",
     "text": [
      "AI model\n",
      "  Loss:        0.01567\n",
      "    -Type:         0.49152 *  0.00 = 0.00000\n",
      "    -Pos X:        0.04671 *  0.00 = 0.00000\n",
      "    -Pos Y:        1.08707 *  0.00 = 0.00000\n",
      "    -Pos Z:        0.02323 *  0.00 = 0.00000\n",
      "    -Energy:       0.84564 *  0.00 = 0.00000\n",
      "    -Cls e:        0.02332 *  0.00 = 0.00000\n",
      "    -Cls p:        0.05627 *  0.00 = 0.00000\n",
      "    -Quality:      0.01441 *  1.00 = 0.01441\n",
      "  Accuracy:     0.75436\n",
      "    -Precision:    0.31103\n",
      "    -Recall:       0.18047\n",
      "    -Cls e rate:   0.95611\n",
      "    -Cls p rate:   0.86112\n",
      "  Efficiency:   0.08105\n",
      "  Purity:       0.13968\n",
      "  Euc mean:     7.09194\n",
      "  Euc std:     10.01548\n",
      "  Energy mean:  0.30298\n",
      "  Energy std:   0.70733\n",
      "\n",
      "Reco\n",
      "  Accuracy:     0.68734\n",
      "    -TP rate:      0.66029\n",
      "  Efficiency:   0.12303\n",
      "  Purity:       0.04894\n",
      "  Euc mean:    12.21821\n",
      "  Euc std:     18.24261\n",
      "  Energy mean:  0.44373\n",
      "  Energy std:   0.94473\n"
     ]
    }
   ],
   "source": [
    "ai.evaluate(quality_filter=[.75,.8,.7,.7])"
   ]
  },
  {
   "cell_type": "code",
   "execution_count": 12,
   "metadata": {},
   "outputs": [],
   "source": [
    "# save the trained model\n",
    "ai.save(file_name=model_name)"
   ]
  },
  {
   "cell_type": "code",
   "execution_count": 13,
   "metadata": {},
   "outputs": [],
   "source": [
    "ai.export_predictions_root('sificc-nn-llr-qlty.root', quality_filter=[.75,.8,.7,.7])"
   ]
  },
  {
   "cell_type": "code",
   "execution_count": 14,
   "metadata": {},
   "outputs": [
    {
     "data": {
      "image/png": "[encoded data removed]",
      "text/plain": [
       "<Figure size 1152x576 with 4 Axes>"
      ]
     },
     "metadata": {
      "needs_background": "light"
     },
     "output_type": "display_data"
    },
    {
     "name": "stdout",
     "output_type": "stream",
     "text": [
      "CPU times: user 3min 36s, sys: 7.13 s, total: 3min 43s\n",
      "Wall time: 3min 43s\n"
     ]
    }
   ],
   "source": [
    "%%time\n",
    "def plot_cross_evaluation(pos, title):\n",
    "    l_quality = [None, .1, .2, .3, .4, .5, .6, .7, .8, .9]\n",
    "    l_filter = [None, None, None, None]\n",
    "    l_eff = []\n",
    "    l_pur = []\n",
    "    for i in l_quality:\n",
    "        l_filter[pos] = i\n",
    "        eff, pur = ai.calc_eff_pur(quality_filter=l_filter)\n",
    "        l_eff.append(eff)\n",
    "        l_pur.append(pur)\n",
    "\n",
    "    plt.title(title)\n",
    "    plt.plot(np.arange(0,1,.1), l_eff, label='Efficiency')\n",
    "    plt.plot(np.arange(0,1,.1), l_pur, label='Purity')\n",
    "    plt.grid()\n",
    "    plt.legend()\n",
    "    \n",
    "plt.figure(figsize=(16,8))\n",
    "plt.subplot(2,2,1)\n",
    "plot_cross_evaluation(0, 'e energy quality')\n",
    "plt.subplot(2,2,2)\n",
    "plot_cross_evaluation(1, 'p energy quality')\n",
    "plt.subplot(2,2,3)\n",
    "plot_cross_evaluation(2, 'e position quality')\n",
    "plt.subplot(2,2,4)\n",
    "plot_cross_evaluation(3, 'p position quality')\n",
    "plt.show()"
   ]
  },
  {
   "cell_type": "code",
   "execution_count": null,
   "metadata": {},
   "outputs": [],
   "source": []
  }
 ],
 "metadata": {
  "kernelspec": {
   "display_name": "Python 3",
   "language": "python",
   "name": "python3"
  },
  "language_info": {
   "codemirror_mode": {
    "name": "ipython",
    "version": 3
   },
   "file_extension": ".py",
   "mimetype": "text/x-python",
   "name": "python",
   "nbconvert_exporter": "python",
   "pygments_lexer": "ipython3",
   "version": "3.8.3"
  }
 },
 "nbformat": 4,
 "nbformat_minor": 4
}

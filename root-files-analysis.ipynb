{
 "cells": [
  {
   "cell_type": "code",
   "execution_count": 1,
   "metadata": {},
   "outputs": [],
   "source": [
    "import math\n",
    "import numpy as np\n",
    "import pandas as pd\n",
    "import uproot\n",
    "import matplotlib.pyplot as plt\n",
    "from sificc_lib import utils, Event, Simulation, root_files\n",
    "\n",
    "pd.options.display.max_columns = 100\n",
    "pd.options.display.max_rows = 100\n",
    "pd.options.display.float_format = '{:,.3f}'.format\n",
    "\n",
    "%matplotlib inline"
   ]
  },
  {
   "cell_type": "code",
   "execution_count": 2,
   "metadata": {},
   "outputs": [
    {
     "name": "stdout",
     "output_type": "stream",
     "text": [
      "analysis of the 'highest statistics' root file\n",
      "Scatterer:\n",
      "\tPosition: (200.0, 0.0, 0.0)\n",
      "\tThickness: (13.0, 100.0, 98.8)\n",
      "\n",
      "Absorber:\n",
      "\tPosition: (400.0, 0.0, 0.0)\n",
      "\tThickness: (39.0, 100.0, 98.8)\n",
      "\n",
      "processing root file: 100%|███████████████████████████████| 875985/875985 [04:37<00:00, 3161.09it/s]\n",
      " 875,985 total entries\n",
      " 710,484 valid entries with distrbuted clusters\n",
      " 407,459 compton events\n",
      " 253,310 compton + second interaction\n",
      " 155,255 compton + second in different module\n",
      " 118,909 ideal compton events\n",
      "\t 117,641 ep\n",
      "\t   1,268 pe\n",
      "  44,758 ideal compton events with matching clusters\n",
      "     210 ideal compton events with overlapping clusters\n"
     ]
    },
    {
     "data": {
      "image/png": "[encoded data removed]",
      "text/plain": [
       "<Figure size 432x288 with 1 Axes>"
      ]
     },
     "metadata": {
      "needs_background": "light"
     },
     "output_type": "display_data"
    },
    {
     "name": "stdout",
     "output_type": "stream",
     "text": [
      "histogram bars' count: [4.0245e+04 3.7731e+04 9.1420e+03 1.8510e+03 4.2500e+02 8.5000e+01\n",
      " 2.7000e+01 8.0000e+00 2.0000e+00]\n"
     ]
    }
   ],
   "source": [
    "simulation = Simulation(root_files.HPC_LLR_20)\n",
    "print(\"analysis of the 'highest statistics' root file\")\n",
    "utils.show_simulation_setup(simulation)\n",
    "print()\n",
    "utils.show_root_file_analysis(simulation, only_valid=True)"
   ]
  },
  {
   "cell_type": "code",
   "execution_count": 3,
   "metadata": {},
   "outputs": [
    {
     "name": "stdout",
     "output_type": "stream",
     "text": [
      "processing root file: 100%|███████████████████████████████| 875985/875985 [04:45<00:00, 3068.97it/s]\n",
      "Features normalization:\n",
      "clusters entry\n",
      "\tmean 1.7750611473108673\n",
      "\tstd 1.588047947069924\n",
      "\n",
      "clusters energy\n",
      "\tmean 1.421916339110481\n",
      "\tstd 1.902366137816775\n",
      "\n",
      "clusters energy uncertainty\n",
      "\tmean 0.03560808826620114\n",
      "\tstd 0.024890506769033635\n",
      "\n",
      "clusters position\n",
      "\tmean [ 3.05037323e+02  1.07851841e-01 -7.90035363e-01]\n",
      "\tstd [97.35787096 30.03624762 27.49783761]\n",
      "\n",
      "clusters position uncertainty\n",
      "\tmean [ 1.06228859 11.49932913  0.94706298]\n",
      "\tstd [1.00977742 4.07463448 0.74580474]\n",
      "\n",
      "Targets normalization\n",
      "real e energy\n",
      "\tmean 1.3483193304874133\n",
      "\tstd 1.8436350099160583\n",
      "\n",
      "real e position\n",
      "\tmean [ 2.02035957e+02  4.36810732e-02 -2.86436225e+00]\n",
      "\tstd [19.5244683  27.86458018 27.34153256]\n",
      "\n",
      "real p energy\n",
      "\tmean 2.229320222904948\n",
      "\tstd 1.7060496720372578\n",
      "\n",
      "real p position\n",
      "\tmean [3.94001939e+02 1.55154095e-01 1.04931962e+00]\n",
      "\tstd [22.75771642 28.32632043 28.09068483]\n"
     ]
    }
   ],
   "source": [
    "utils.calculate_normalizations(simulation, only_valid=True)"
   ]
  }
 ],
 "metadata": {
  "kernelspec": {
   "display_name": "Python 3 (ipykernel)",
   "language": "python",
   "name": "python3"
  },
  "language_info": {
   "codemirror_mode": {
    "name": "ipython",
    "version": 3
   },
   "file_extension": ".py",
   "mimetype": "text/x-python",
   "name": "python",
   "nbconvert_exporter": "python",
   "pygments_lexer": "ipython3",
   "version": "3.7.11"
  }
 },
 "nbformat": 4,
 "nbformat_minor": 4
}

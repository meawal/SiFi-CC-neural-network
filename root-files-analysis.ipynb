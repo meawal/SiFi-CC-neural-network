{
 "cells": [
  {
   "cell_type": "code",
   "execution_count": 1,
   "metadata": {},
   "outputs": [],
   "source": [
    "import math\n",
    "import numpy as np\n",
    "import pandas as pd\n",
    "import uproot\n",
    "import matplotlib.pyplot as plt\n",
    "from sificc_lib import utils, Event, Simulation, root_files\n",
    "\n",
    "pd.options.display.max_columns = 100\n",
    "pd.options.display.max_rows = 100\n",
    "pd.options.display.float_format = '{:,.3f}'.format\n",
    "\n",
    "%matplotlib inline"
   ]
  },
  {
   "cell_type": "code",
   "execution_count": 2,
   "metadata": {},
   "outputs": [
    {
     "name": "stdout",
     "output_type": "stream",
     "text": [
      "analysis of the 'highest statistics' root file\n",
      "Scatterer:\n",
      "\tPosition: (200.0, 0.0, 0.0)\n",
      "\tThickness: (23.3, 100.0, 176.8)\n",
      "\n",
      "Absorber:\n",
      "\tPosition: (400.0, 0.0, 0.0)\n",
      "\tThickness: (69.8, 100.0, 176.8)\n",
      "\n",
      "processing root file: 100%|███████████████████████████████| 854873/854873 [04:47<00:00, 2973.84it/s]\n",
      " 854,873 total entries\n",
      " 672,952 valid entries with distrbuted clusters\n",
      " 395,523 compton events\n",
      " 240,634 compton + second interaction\n",
      " 130,798 compton + second in different module\n",
      "  97,607 ideal compton events\n",
      "\t  96,092 ep\n",
      "\t   1,515 pe\n",
      "  35,973 ideal compton events with matching clusters\n",
      "     193 ideal compton events with overlapping clusters\n"
     ]
    },
    {
     "data": {
      "image/png": "[encoded data removed]",
      "text/plain": [
       "<Figure size 432x288 with 1 Axes>"
      ]
     },
     "metadata": {
      "needs_background": "light"
     },
     "output_type": "display_data"
    },
    {
     "name": "stdout",
     "output_type": "stream",
     "text": [
      "histogram bars' count: [3.1883e+04 2.9410e+04 8.0690e+03 1.9640e+03 4.4200e+02 1.3100e+02\n",
      " 3.1000e+01 1.0000e+01 3.0000e+00 2.0000e+00 1.0000e+00]\n"
     ]
    }
   ],
   "source": [
    "simulation = Simulation(root_files.HPC_LLR)\n",
    "print(\"analysis of the 'highest statistics' root file\")\n",
    "utils.show_simulation_setup(simulation)\n",
    "print()\n",
    "utils.show_root_file_analysis(simulation, only_valid=True)"
   ]
  },
  {
   "cell_type": "code",
   "execution_count": 3,
   "metadata": {},
   "outputs": [
    {
     "name": "stdout",
     "output_type": "stream",
     "text": [
      "processing root file: 100%|███████████████████████████████| 854873/854873 [05:00<00:00, 2840.71it/s]\n",
      "Features normalization:\n",
      "clusters entry\n",
      "\tmean 1.780826610712862\n",
      "\tstd 1.6371731651624135\n",
      "\n",
      "clusters energy\n",
      "\tmean 1.3134160095873435\n",
      "\tstd 1.874215149152707\n",
      "\n",
      "clusters energy uncertainty\n",
      "\tmean 0.03338954916639435\n",
      "\tstd 0.0250835375536536\n",
      "\n",
      "clusters position\n",
      "\tmean [ 3.08482929e+02  4.42330610e-02 -8.50224908e-01]\n",
      "\tstd [97.33908375 28.98121222 27.53657139]\n",
      "\n",
      "clusters position uncertainty\n",
      "\tmean [ 1.0542618  12.85909077  0.94718083]\n",
      "\tstd [1.00549903 6.10554312 0.75687835]\n",
      "\n",
      "Targets normalization\n",
      "real e energy\n",
      "\tmean 1.145688518668482\n",
      "\tstd 1.7125225593599558\n",
      "\n",
      "real e position\n",
      "\tmean [ 2.03011216e+02 -9.03035564e-02 -3.05849243e+00]\n",
      "\tstd [23.40035264 20.72103073 27.27482817]\n",
      "\n",
      "real p energy\n",
      "\tmean 2.2296278992362635\n",
      "\tstd 1.7866619635132406\n",
      "\n",
      "real p position\n",
      "\tmean [3.93015025e+02 4.85087589e-02 1.17371528e+00]\n",
      "\tstd [26.37200378 28.3125035  28.13836342]\n"
     ]
    }
   ],
   "source": [
    "utils.calculate_normalizations(simulation, only_valid=True)"
   ]
  }
 ],
 "metadata": {
  "kernelspec": {
   "display_name": "Python 3",
   "language": "python",
   "name": "python3"
  },
  "language_info": {
   "codemirror_mode": {
    "name": "ipython",
    "version": 3
   },
   "file_extension": ".py",
   "mimetype": "text/x-python",
   "name": "python",
   "nbconvert_exporter": "python",
   "pygments_lexer": "ipython3",
   "version": "3.7.3"
  }
 },
 "nbformat": 4,
 "nbformat_minor": 4
}

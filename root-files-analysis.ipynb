{
 "cells": [
  {
   "cell_type": "code",
   "execution_count": 1,
   "metadata": {},
   "outputs": [],
   "source": [
    "import math\n",
    "import numpy as np\n",
    "import pandas as pd\n",
    "import uproot\n",
    "import matplotlib.pyplot as plt\n",
    "from sificc_lib import utils, Event, Simulation, root_files\n",
    "\n",
    "pd.options.display.max_columns = 100\n",
    "pd.options.display.max_rows = 100\n",
    "pd.options.display.float_format = '{:,.3f}'.format\n",
    "\n",
    "%matplotlib inline"
   ]
  },
  {
   "cell_type": "code",
   "execution_count": 2,
   "metadata": {},
   "outputs": [
    {
     "name": "stdout",
     "output_type": "stream",
     "text": [
      "analysis of the 'highest statistics' root file\n",
      "Scatterer:\n",
      "\tPosition: (200.0, 0.0, 0.0)\n",
      "\tThickness: (23.3, 100.0, 176.8)\n",
      "\n",
      "Absorber:\n",
      "\tPosition: (400.0, 0.0, 0.0)\n",
      "\tThickness: (69.8, 100.0, 176.8)\n",
      "\n",
      "processing root file: 100%|███████████████████████████████| 854873/854873 [04:48<00:00, 2964.26it/s]\n",
      " 854,873 total entries\n",
      " 672,952 valid entries with distrbuted clusters\n",
      " 395,523 compton events\n",
      " 240,634 compton + second interaction\n",
      " 130,798 compton + second in different module\n",
      " 106,350 ideal compton events\n",
      "\t 104,677 ep\n",
      "\t   1,673 pe\n",
      "  38,700 ideal compton events with matching clusters\n",
      "     211 ideal compton events with overlapping clusters\n"
     ]
    },
    {
     "data": {
      "image/png": "[encoded data removed]",
      "text/plain": [
       "<Figure size 432x288 with 1 Axes>"
      ]
     },
     "metadata": {
      "needs_background": "light"
     },
     "output_type": "display_data"
    },
    {
     "name": "stdout",
     "output_type": "stream",
     "text": [
      "histogram bars' count: [3.3466e+04 3.1239e+04 9.1840e+03 2.4910e+03 6.6000e+02 2.2800e+02\n",
      " 8.0000e+01 3.2000e+01 1.2000e+01 5.0000e+00 3.0000e+00]\n"
     ]
    }
   ],
   "source": [
    "simulation = Simulation(root_files.HPC_LLR)\n",
    "print(\"analysis of the 'highest statistics' root file\")\n",
    "utils.show_simulation_setup(simulation)\n",
    "print()\n",
    "utils.show_root_file_analysis(simulation, only_valid=True)"
   ]
  },
  {
   "cell_type": "code",
   "execution_count": 3,
   "metadata": {},
   "outputs": [
    {
     "name": "stdout",
     "output_type": "stream",
     "text": [
      "processing root file: 100%|███████████████████████████████| 854873/854873 [04:57<00:00, 2873.15it/s]\n",
      "Features normalization:\n",
      "clusters entry\n",
      "\tmean 1.780826610712862\n",
      "\tstd 1.6371731651624135\n",
      "\n",
      "clusters energy\n",
      "\tmean 1.3134160095873435\n",
      "\tstd 1.874215149152707\n",
      "\n",
      "clusters energy uncertainty\n",
      "\tmean 0.03338954916639435\n",
      "\tstd 0.0250835375536536\n",
      "\n",
      "clusters position\n",
      "\tmean [ 3.08482929e+02  4.42330610e-02 -8.50224908e-01]\n",
      "\tstd [97.33908375 28.98121222 27.53657139]\n",
      "\n",
      "clusters position uncertainty\n",
      "\tmean [ 1.0542618  12.85909077  0.94718083]\n",
      "\tstd [1.00549903 6.10554312 0.75687835]\n",
      "\n",
      "Targets normalization\n",
      "real e energy\n",
      "\tmean 1.145902968123442\n",
      "\tstd 1.7225469452392403\n",
      "\n",
      "real e position\n",
      "\tmean [ 2.03054229e+02 -1.05712158e-01 -3.13056242e+00]\n",
      "\tstd [23.54037899 20.70622677 27.26802304]\n",
      "\n",
      "real p energy\n",
      "\tmean 2.22115921342183\n",
      "\tstd 1.7916010745717312\n",
      "\n",
      "real p position\n",
      "\tmean [3.92947326e+02 5.97191421e-02 1.18562119e+00]\n",
      "\tstd [26.51553238 28.33107502 28.13506062]\n"
     ]
    }
   ],
   "source": [
    "utils.calculate_normalizations(simulation, only_valid=True)"
   ]
  }
 ],
 "metadata": {
  "kernelspec": {
   "display_name": "Python 3",
   "language": "python",
   "name": "python3"
  },
  "language_info": {
   "codemirror_mode": {
    "name": "ipython",
    "version": 3
   },
   "file_extension": ".py",
   "mimetype": "text/x-python",
   "name": "python",
   "nbconvert_exporter": "python",
   "pygments_lexer": "ipython3",
   "version": "3.7.3"
  }
 },
 "nbformat": 4,
 "nbformat_minor": 4
}

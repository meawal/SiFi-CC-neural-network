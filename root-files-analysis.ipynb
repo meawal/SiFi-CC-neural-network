{
 "cells": [
  {
   "cell_type": "code",
   "execution_count": 1,
   "metadata": {},
   "outputs": [],
   "source": [
    "import math\n",
    "import numpy as np\n",
    "import pandas as pd\n",
    "import uproot\n",
    "import matplotlib.pyplot as plt\n",
    "from sificc_lib import utils, Event, Simulation, root_files\n",
    "\n",
    "pd.options.display.max_columns = 100\n",
    "pd.options.display.max_rows = 100\n",
    "pd.options.display.float_format = '{:,.3f}'.format\n",
    "\n",
    "%matplotlib inline"
   ]
  },
  {
   "cell_type": "code",
   "execution_count": 2,
   "metadata": {},
   "outputs": [
    {
     "name": "stdout",
     "output_type": "stream",
     "text": [
      "analysis of the 'highest statistics' root file\n",
      "Scatterer:\n",
      "\tPosition: (200.0, 0.0, 0.0)\n",
      "\tThickness: (13.0, 100.0, 98.8)\n",
      "\n",
      "Absorber:\n",
      "\tPosition: (400.0, 0.0, 0.0)\n",
      "\tThickness: (39.0, 100.0, 98.8)\n",
      "\n",
      "processing root file: 100%|█████████████████████████████| 1135534/1135534 [06:58<00:00, 2711.32it/s]\n",
      "1,135,534 total entries\n",
      " 885,529 valid entries with distrbuted clusters\n",
      " 523,295 compton events\n",
      " 317,632 compton + second interaction\n",
      " 170,516 compton + second in different module\n",
      " 125,959 ideal compton events\n",
      "\t 124,481 ep\n",
      "\t   1,478 pe\n",
      "  49,900 ideal compton events with matching clusters\n",
      "     251 ideal compton events with overlapping clusters\n"
     ]
    },
    {
     "data": {
      "image/png": "[encoded data removed]",
      "text/plain": [
       "<Figure size 432x288 with 1 Axes>"
      ]
     },
     "metadata": {
      "needs_background": "light"
     },
     "output_type": "display_data"
    },
    {
     "name": "stdout",
     "output_type": "stream",
     "text": [
      "histogram bars' count: [4.4336e+04 4.1128e+04 1.0924e+04 2.6280e+03 5.8200e+02 1.4000e+02\n",
      " 3.6000e+01 1.9000e+01 4.0000e+00 2.0000e+00 0.0000e+00 1.0000e+00]\n"
     ]
    }
   ],
   "source": [
    "simulation = Simulation(root_files.HPC_LLR)\n",
    "print(\"analysis of the 'highest statistics' root file\")\n",
    "utils.show_simulation_setup(simulation)\n",
    "print()\n",
    "utils.show_root_file_analysis(simulation, only_valid=True)"
   ]
  },
  {
   "cell_type": "code",
   "execution_count": 3,
   "metadata": {},
   "outputs": [
    {
     "name": "stdout",
     "output_type": "stream",
     "text": [
      "processing root file: 100%|█████████████████████████████| 1135534/1135534 [07:12<00:00, 2627.26it/s]\n",
      "Features normalization:\n",
      "clusters entry\n",
      "\tmean 1.7874760910930447\n",
      "\tstd 1.6479899119958636\n",
      "\n",
      "clusters energy\n",
      "\tmean 1.3219832176828306\n",
      "\tstd 1.8812291744163367\n",
      "\n",
      "clusters energy uncertainty\n",
      "\tmean 0.03352665535144364\n",
      "\tstd 0.025137531990537407\n",
      "\n",
      "clusters position\n",
      "\tmean [ 3.08466733e+02  8.30834656e-02 -8.41913642e-01]\n",
      "\tstd [97.44675577 30.56710605 27.5600849 ]\n",
      "\n",
      "clusters position uncertainty\n",
      "\tmean [ 1.05791671 12.8333989   0.94994155]\n",
      "\tstd [1.01437355 6.11019272 0.76225179]\n",
      "\n",
      "Targets normalization\n",
      "real e energy\n",
      "\tmean 1.207963305458394\n",
      "\tstd 1.7854439595674854\n",
      "\n",
      "real e position\n",
      "\tmean [ 2.02256879e+02  1.00478623e-02 -3.36698613e+00]\n",
      "\tstd [20.45301063 27.74893174 27.19126733]\n",
      "\n",
      "real p energy\n",
      "\tmean 2.081498278344268\n",
      "\tstd 1.675908762593649\n",
      "\n",
      "real p position\n",
      "\tmean [3.93714750e+02 1.02343097e-01 1.31962800e+00]\n",
      "\tstd [23.59772062 28.41093766 28.10100634]\n"
     ]
    }
   ],
   "source": [
    "utils.calculate_normalizations(simulation, only_valid=True)"
   ]
  }
 ],
 "metadata": {
  "kernelspec": {
   "display_name": "Python 3",
   "language": "python",
   "name": "python3"
  },
  "language_info": {
   "codemirror_mode": {
    "name": "ipython",
    "version": 3
   },
   "file_extension": ".py",
   "mimetype": "text/x-python",
   "name": "python",
   "nbconvert_exporter": "python",
   "pygments_lexer": "ipython3",
   "version": "3.8.3"
  }
 },
 "nbformat": 4,
 "nbformat_minor": 4
}

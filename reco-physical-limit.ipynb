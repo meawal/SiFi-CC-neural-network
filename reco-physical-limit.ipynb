{
 "cells": [
  {
   "cell_type": "code",
   "execution_count": 1,
   "metadata": {},
   "outputs": [],
   "source": [
    "import math\n",
    "import numpy as np\n",
    "import pandas as pd\n",
    "import uproot\n",
    "import matplotlib.pyplot as plt\n",
    "from sificc_lib import utils, Event, Simulation, root_files, AI\n",
    "\n",
    "pd.options.display.max_columns = 100\n",
    "pd.options.display.max_rows = 100\n",
    "pd.options.display.float_format = '{:,.3f}'.format\n",
    "\n",
    "%matplotlib inline"
   ]
  },
  {
   "cell_type": "code",
   "execution_count": 2,
   "metadata": {},
   "outputs": [
    {
     "name": "stdout",
     "output_type": "stream",
     "text": [
      "processing root file: 100%|████████████████████████████████| 854873/854873 [17:24<00:00, 818.13it/s]\n"
     ]
    }
   ],
   "source": [
    "# finding the physical limit in accordance to the matching criteria\n",
    "# used in my thesis work\n",
    "simulation = Simulation(root_files.HPC_LLR)\n",
    "\n",
    "c_compt=0 #counter for the ideal compton events\n",
    "c_match=0 #counter for the matches\n",
    "\n",
    "# iterate through the simulation events\n",
    "for event in simulation.iterate_events():\n",
    "    #check if the event is valid and ideal compton\n",
    "    if event.is_distributed_clusters and event.is_ideal_compton:\n",
    "        c_compt+=1\n",
    "        l_e_clust = set()\n",
    "        l_p_clust = set()\n",
    "        \n",
    "        # main e cluster is chosen by the matching cluster within its uncertainties\n",
    "        # if nothing is matching, the closest cluster is chosed\n",
    "        if event.e_clusters_count == 1:\n",
    "            idx = event._arg_matching_cluster(event.real_e_position)\n",
    "        else:\n",
    "            idx = event._arg_closest_cluster(event.real_e_position)\n",
    "        l_e_clust.add(idx)\n",
    "\n",
    "        # main p cluster is chosen by the matching cluster within its uncertainties\n",
    "        # if nothing is matching, the closest cluster is chosed\n",
    "        if event.p_clusters_count == 1:\n",
    "            idx = event._arg_matching_cluster(event.real_p_position)\n",
    "        else:\n",
    "            idx = event._arg_closest_cluster(event.real_p_position)\n",
    "        l_p_clust.add(idx)\n",
    "            \n",
    "        # check all the interaction positions of e against all the clusters\n",
    "        # and assign the matching clusters to e clusters\n",
    "        for point in event.real_e_position_all.tolist():\n",
    "            for i in range(event.clusters_count):\n",
    "                if utils.is_point_inside_cluster(point, event.clusters_position[i], \n",
    "                                                 event.clusters_position_unc[i]):\n",
    "                    l_e_clust.add(i)\n",
    "                    \n",
    "        # check all the interaction positions of p against all the clusters\n",
    "        # and assign the matching clusters to p clusters if it's not already\n",
    "        # assigned to e clusters\n",
    "        for point in event.real_p_position_all.tolist()[1:]:\n",
    "            for i in range(event.clusters_count):\n",
    "                if utils.is_point_inside_cluster(point, event.clusters_position[i], \n",
    "                                                 event.clusters_position_unc[i]):\n",
    "                    if i not in l_e_clust:\n",
    "                        l_p_clust.add(i)\n",
    "                    \n",
    "        l_e_clust = list(l_e_clust)\n",
    "        l_p_clust = list(l_p_clust)\n",
    "        \n",
    "        # the position is defined by the first interaction cluster\n",
    "        e_pos = event.clusters_position[l_e_clust[0]]\n",
    "        p_pos = event.clusters_position[l_p_clust[0]]\n",
    "        \n",
    "        # the energy is defined by the sum of all matching clusters\n",
    "        e_enrg = event.clusters_energy[l_e_clust].sum()\n",
    "        p_enrg = event.clusters_energy[l_p_clust].sum()\n",
    "        \n",
    "        # check if the recunstructed clusters qualify for a match according to the\n",
    "        # criteria used in my thesis work\n",
    "        if np.abs(event.real_e_position.x - e_pos.x) <= 2.6 \\\n",
    "                and np.abs(event.real_e_position.y - e_pos.y) <= 20 \\\n",
    "                and np.abs(event.real_e_position.z - e_pos.z) <= 2.6 \\\n",
    "                and np.abs(event.real_p_position.x - p_pos.x) <= 2.6 \\\n",
    "                and np.abs(event.real_p_position.y - p_pos.y) <= 20 \\\n",
    "                and np.abs(event.real_p_position.z - p_pos.z) <= 2.6 \\\n",
    "                and np.abs(event.real_e_energy - e_enrg) <= (event.real_e_energy * .12) \\\n",
    "                and np.abs(event.real_p_energy - p_enrg) <= (event.real_p_energy * .12):\n",
    "            c_match +=1"
   ]
  },
  {
   "cell_type": "code",
   "execution_count": 3,
   "metadata": {},
   "outputs": [
    {
     "name": "stdout",
     "output_type": "stream",
     "text": [
      "using my threshold\n",
      "total matches: 7029\n",
      "total comptons: 97607\n",
      "physical limit: 7.20%\n"
     ]
    }
   ],
   "source": [
    "print('using my threshold')\n",
    "print('total matches:', c_match)\n",
    "print('total comptons:', c_compt)\n",
    "print('physical limit: {:.2f}%'.format(c_match/c_compt*100))"
   ]
  },
  {
   "cell_type": "code",
   "execution_count": null,
   "metadata": {},
   "outputs": [],
   "source": []
  }
 ],
 "metadata": {
  "kernelspec": {
   "display_name": "Python 3",
   "language": "python",
   "name": "python3"
  },
  "language_info": {
   "codemirror_mode": {
    "name": "ipython",
    "version": 3
   },
   "file_extension": ".py",
   "mimetype": "text/x-python",
   "name": "python",
   "nbconvert_exporter": "python",
   "pygments_lexer": "ipython3",
   "version": "3.7.3"
  }
 },
 "nbformat": 4,
 "nbformat_minor": 2
}
